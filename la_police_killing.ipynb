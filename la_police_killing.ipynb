{
 "cells": [
  {
   "cell_type": "markdown",
   "id": "91e452a7",
   "metadata": {},
   "source": [
    " # import the data\n"
   ]
  },
  {
   "cell_type": "code",
   "execution_count": 58,
   "id": "2763fdd7",
   "metadata": {},
   "outputs": [],
   "source": [
    "import pandas as pd\n",
    "df = pd.read_csv(\"los-angeles-police-killings.csv\")"
   ]
  },
  {
   "cell_type": "code",
   "execution_count": 59,
   "id": "c9299b74",
   "metadata": {},
   "outputs": [
    {
     "data": {
      "text/html": [
       "<div>\n",
       "<style scoped>\n",
       "    .dataframe tbody tr th:only-of-type {\n",
       "        vertical-align: middle;\n",
       "    }\n",
       "\n",
       "    .dataframe tbody tr th {\n",
       "        vertical-align: top;\n",
       "    }\n",
       "\n",
       "    .dataframe thead th {\n",
       "        text-align: right;\n",
       "    }\n",
       "</style>\n",
       "<table border=\"1\" class=\"dataframe\">\n",
       "  <thead>\n",
       "    <tr style=\"text-align: right;\">\n",
       "      <th></th>\n",
       "      <th>coroners_case_number</th>\n",
       "      <th>slug</th>\n",
       "      <th>death_date</th>\n",
       "      <th>first</th>\n",
       "      <th>middle</th>\n",
       "      <th>last</th>\n",
       "      <th>age</th>\n",
       "      <th>race</th>\n",
       "      <th>gender</th>\n",
       "      <th>cause</th>\n",
       "      <th>address</th>\n",
       "      <th>neighborhood</th>\n",
       "      <th>x</th>\n",
       "      <th>y</th>\n",
       "    </tr>\n",
       "  </thead>\n",
       "  <tbody>\n",
       "    <tr>\n",
       "      <th>0</th>\n",
       "      <td>2021-05641</td>\n",
       "      <td>alfredo-aceves</td>\n",
       "      <td>2021-04-29</td>\n",
       "      <td>Alfredo</td>\n",
       "      <td>NaN</td>\n",
       "      <td>Aceves</td>\n",
       "      <td>64.0</td>\n",
       "      <td>latino</td>\n",
       "      <td>male</td>\n",
       "      <td>gunshot</td>\n",
       "      <td>39462 167th St. East</td>\n",
       "      <td>Lake Los Angeles</td>\n",
       "      <td>-117.832585</td>\n",
       "      <td>34.598590</td>\n",
       "    </tr>\n",
       "    <tr>\n",
       "      <th>1</th>\n",
       "      <td>2021-05476</td>\n",
       "      <td>richard-b-solitro</td>\n",
       "      <td>2021-04-24</td>\n",
       "      <td>Richard</td>\n",
       "      <td>B.</td>\n",
       "      <td>Solitro</td>\n",
       "      <td>34.0</td>\n",
       "      <td>white</td>\n",
       "      <td>male</td>\n",
       "      <td>gunshot</td>\n",
       "      <td>Sunset Boulevard &amp; Fairfax Avenue</td>\n",
       "      <td>Hollywood Hills West</td>\n",
       "      <td>-118.361564</td>\n",
       "      <td>34.098064</td>\n",
       "    </tr>\n",
       "    <tr>\n",
       "      <th>2</th>\n",
       "      <td>2021-05012</td>\n",
       "      <td>guillermo-amezcua</td>\n",
       "      <td>2021-04-10</td>\n",
       "      <td>Guillermo</td>\n",
       "      <td>NaN</td>\n",
       "      <td>Amezcua</td>\n",
       "      <td>48.0</td>\n",
       "      <td>latino</td>\n",
       "      <td>male</td>\n",
       "      <td>gunshot</td>\n",
       "      <td>402 Harps St.</td>\n",
       "      <td>San Fernando</td>\n",
       "      <td>-118.438888</td>\n",
       "      <td>34.288605</td>\n",
       "    </tr>\n",
       "    <tr>\n",
       "      <th>3</th>\n",
       "      <td>2021-04696</td>\n",
       "      <td>lauren-nicole-archibeque</td>\n",
       "      <td>2021-04-02</td>\n",
       "      <td>Lauren</td>\n",
       "      <td>Nicole</td>\n",
       "      <td>Archibeque</td>\n",
       "      <td>38.0</td>\n",
       "      <td>white</td>\n",
       "      <td>female</td>\n",
       "      <td>gunshot</td>\n",
       "      <td>2851 Golden Ave.</td>\n",
       "      <td>Long Beach</td>\n",
       "      <td>-118.202655</td>\n",
       "      <td>33.809076</td>\n",
       "    </tr>\n",
       "    <tr>\n",
       "      <th>4</th>\n",
       "      <td>2021-04533</td>\n",
       "      <td>matthew-paul-blaylock</td>\n",
       "      <td>2021-03-29</td>\n",
       "      <td>Matthew</td>\n",
       "      <td>Paul</td>\n",
       "      <td>Blaylock</td>\n",
       "      <td>38.0</td>\n",
       "      <td>black</td>\n",
       "      <td>male</td>\n",
       "      <td>gunshot</td>\n",
       "      <td>West 8th &amp; South Bixel streets</td>\n",
       "      <td>Westlake</td>\n",
       "      <td>-118.264984</td>\n",
       "      <td>34.049580</td>\n",
       "    </tr>\n",
       "  </tbody>\n",
       "</table>\n",
       "</div>"
      ],
      "text/plain": [
       "  coroners_case_number                      slug  death_date      first  \\\n",
       "0           2021-05641            alfredo-aceves  2021-04-29    Alfredo   \n",
       "1           2021-05476         richard-b-solitro  2021-04-24    Richard   \n",
       "2           2021-05012         guillermo-amezcua  2021-04-10  Guillermo   \n",
       "3           2021-04696  lauren-nicole-archibeque  2021-04-02     Lauren   \n",
       "4           2021-04533     matthew-paul-blaylock  2021-03-29    Matthew   \n",
       "\n",
       "   middle        last   age    race  gender    cause  \\\n",
       "0     NaN      Aceves  64.0  latino    male  gunshot   \n",
       "1      B.     Solitro  34.0   white    male  gunshot   \n",
       "2     NaN     Amezcua  48.0  latino    male  gunshot   \n",
       "3  Nicole  Archibeque  38.0   white  female  gunshot   \n",
       "4    Paul    Blaylock  38.0   black    male  gunshot   \n",
       "\n",
       "                             address          neighborhood           x  \\\n",
       "0               39462 167th St. East      Lake Los Angeles -117.832585   \n",
       "1  Sunset Boulevard & Fairfax Avenue  Hollywood Hills West -118.361564   \n",
       "2                      402 Harps St.          San Fernando -118.438888   \n",
       "3                   2851 Golden Ave.            Long Beach -118.202655   \n",
       "4     West 8th & South Bixel streets              Westlake -118.264984   \n",
       "\n",
       "           y  \n",
       "0  34.598590  \n",
       "1  34.098064  \n",
       "2  34.288605  \n",
       "3  33.809076  \n",
       "4  34.049580  "
      ]
     },
     "execution_count": 59,
     "metadata": {},
     "output_type": "execute_result"
    }
   ],
   "source": [
    "df.head(5)"
   ]
  },
  {
   "cell_type": "code",
   "execution_count": 60,
   "id": "b74106f9",
   "metadata": {},
   "outputs": [
    {
     "data": {
      "text/plain": [
       "(928, 14)"
      ]
     },
     "execution_count": 60,
     "metadata": {},
     "output_type": "execute_result"
    }
   ],
   "source": [
    "df.shape\n",
    "# So we have 928 death in total from 2005 to 2021"
   ]
  },
  {
   "cell_type": "code",
   "execution_count": 61,
   "id": "95f868e2",
   "metadata": {},
   "outputs": [
    {
     "data": {
      "text/plain": [
       "gunshot        908\n",
       "other           16\n",
       "blunt-force      3\n",
       "Name: cause, dtype: int64"
      ]
     },
     "execution_count": 61,
     "metadata": {},
     "output_type": "execute_result"
    }
   ],
   "source": [
    "# let's see the most common casue of police killings\n",
    "df.cause.value_counts()"
   ]
  },
  {
   "cell_type": "code",
   "execution_count": 62,
   "id": "e0c8b292",
   "metadata": {},
   "outputs": [
    {
     "data": {
      "text/plain": [
       "latino    491\n",
       "black     228\n",
       "white     175\n",
       "asian      28\n",
       "other       2\n",
       "Name: race, dtype: int64"
      ]
     },
     "execution_count": 62,
     "metadata": {},
     "output_type": "execute_result"
    }
   ],
   "source": [
    "# the race disparity of police killing cases\n",
    "df.race.value_counts()"
   ]
  },
  {
   "cell_type": "code",
   "execution_count": 63,
   "id": "5ae3201e",
   "metadata": {},
   "outputs": [
    {
     "data": {
      "text/plain": [
       "52.9"
      ]
     },
     "execution_count": 63,
     "metadata": {},
     "output_type": "execute_result"
    }
   ],
   "source": [
    "# caculate the average percentage of each race from 2005 to 2021\n",
    "totol = 928\n",
    "latino_percentage = round(491/928*100,1)\n",
    "latino_percentage"
   ]
  },
  {
   "cell_type": "code",
   "execution_count": 64,
   "id": "f42b7b65",
   "metadata": {},
   "outputs": [
    {
     "data": {
      "text/plain": [
       "24.6"
      ]
     },
     "execution_count": 64,
     "metadata": {},
     "output_type": "execute_result"
    }
   ],
   "source": [
    "black_percentage = round(228/928*100,1)\n",
    "black_percentage"
   ]
  },
  {
   "cell_type": "code",
   "execution_count": 65,
   "id": "acd96454",
   "metadata": {},
   "outputs": [
    {
     "data": {
      "text/plain": [
       "18.9"
      ]
     },
     "execution_count": 65,
     "metadata": {},
     "output_type": "execute_result"
    }
   ],
   "source": [
    "white_percentage = round(175/928*100,1)\n",
    "white_percentage"
   ]
  },
  {
   "cell_type": "code",
   "execution_count": 66,
   "id": "c2d6d52f",
   "metadata": {},
   "outputs": [
    {
     "data": {
      "text/plain": [
       "3.0"
      ]
     },
     "execution_count": 66,
     "metadata": {},
     "output_type": "execute_result"
    }
   ],
   "source": [
    "asian_percentage = round(28/928*100,1)\n",
    "asian_percentage"
   ]
  },
  {
   "cell_type": "code",
   "execution_count": null,
   "id": "9bc32f4f",
   "metadata": {},
   "outputs": [],
   "source": [
    "other_percentage = round(2/928*100,1)\n",
    "other_percentage"
   ]
  },
  {
   "cell_type": "code",
   "execution_count": 71,
   "id": "c140a240",
   "metadata": {},
   "outputs": [],
   "source": [
    "df.death_date.dtypes\n",
    "df.death_date = pd.to_datetime(df['death_date'])"
   ]
  },
  {
   "cell_type": "code",
   "execution_count": 72,
   "id": "694eb41d",
   "metadata": {},
   "outputs": [],
   "source": [
    "# caculate the percentage of each race by year, first need to create a new column of years from \"death_date\"\n",
    "df['death_year'] = df.death_date.dt.year"
   ]
  },
  {
   "cell_type": "code",
   "execution_count": 73,
   "id": "3383987f",
   "metadata": {},
   "outputs": [
    {
     "data": {
      "text/plain": [
       "race    death_year\n",
       "asian   2015           4\n",
       "        2008           3\n",
       "        2016           3\n",
       "        2002           2\n",
       "        2003           2\n",
       "        2011           2\n",
       "        2012           2\n",
       "        2019           2\n",
       "        2000           1\n",
       "        2001           1\n",
       "        2004           1\n",
       "        2007           1\n",
       "        2013           1\n",
       "        2014           1\n",
       "        2017           1\n",
       "        2018           1\n",
       "black   2007          16\n",
       "        2011          15\n",
       "        2009          14\n",
       "        2013          14\n",
       "        2006          13\n",
       "        2014          13\n",
       "        2000          12\n",
       "        2003          12\n",
       "        2005          12\n",
       "        2008          12\n",
       "        2016          12\n",
       "        2019          12\n",
       "        2015          10\n",
       "        2004           9\n",
       "        2010           9\n",
       "        2001           8\n",
       "        2002           8\n",
       "        2018           7\n",
       "        2020           7\n",
       "        2017           6\n",
       "        2012           5\n",
       "        2021           2\n",
       "latino  2017          31\n",
       "        2011          29\n",
       "        2016          29\n",
       "        2003          27\n",
       "        2013          27\n",
       "        2008          26\n",
       "        2015          26\n",
       "        2004          25\n",
       "        2014          25\n",
       "        2018          25\n",
       "        2006          23\n",
       "        2012          23\n",
       "        2007          21\n",
       "        2009          21\n",
       "        2020          21\n",
       "        2005          19\n",
       "        2010          19\n",
       "        2002          18\n",
       "        2001          17\n",
       "        2019          16\n",
       "        2000          15\n",
       "        2021           8\n",
       "other   2002           1\n",
       "        2020           1\n",
       "white   2012          15\n",
       "        2003          11\n",
       "        2004          11\n",
       "        2013          11\n",
       "        2010          10\n",
       "        2017          10\n",
       "        2000           9\n",
       "        2005           9\n",
       "        2011           9\n",
       "        2014           9\n",
       "        2016           9\n",
       "        2002           7\n",
       "        2009           7\n",
       "        2015           7\n",
       "        2018           7\n",
       "        2001           6\n",
       "        2007           5\n",
       "        2008           5\n",
       "        2019           5\n",
       "        2020           5\n",
       "        2006           4\n",
       "        2021           4\n",
       "Name: death_year, dtype: int64"
      ]
     },
     "execution_count": 73,
     "metadata": {},
     "output_type": "execute_result"
    }
   ],
   "source": [
    "pd.set_option('display.max_rows', None, 'display.max_columns',None)\n",
    "df_race_year = df.groupby('race').death_year.value_counts()\n",
    "df_race_year\n",
    "#df_race_year.to_frame()"
   ]
  },
  {
   "cell_type": "code",
   "execution_count": 2,
   "id": "ea664d41",
   "metadata": {},
   "outputs": [
    {
     "ename": "NameError",
     "evalue": "name 'df' is not defined",
     "output_type": "error",
     "traceback": [
      "\u001b[0;31m---------------------------------------------------------------------------\u001b[0m",
      "\u001b[0;31mNameError\u001b[0m                                 Traceback (most recent call last)",
      "\u001b[0;32m<ipython-input-2-db00381220d9>\u001b[0m in \u001b[0;36m<module>\u001b[0;34m\u001b[0m\n\u001b[1;32m      1\u001b[0m \u001b[0;31m# get the total case numbers for each year to see if any year stands out\u001b[0m\u001b[0;34m\u001b[0m\u001b[0;34m\u001b[0m\u001b[0;34m\u001b[0m\u001b[0m\n\u001b[1;32m      2\u001b[0m \u001b[0;32mimport\u001b[0m \u001b[0mmatplotlib\u001b[0m\u001b[0;34m\u001b[0m\u001b[0;34m\u001b[0m\u001b[0m\n\u001b[0;32m----> 3\u001b[0;31m \u001b[0mdf_by_year\u001b[0m \u001b[0;34m=\u001b[0m \u001b[0mdf\u001b[0m\u001b[0;34m.\u001b[0m\u001b[0mdeath_year\u001b[0m\u001b[0;34m.\u001b[0m\u001b[0mvalue_counts\u001b[0m\u001b[0;34m(\u001b[0m\u001b[0;34m)\u001b[0m\u001b[0;34m.\u001b[0m\u001b[0mto_frame\u001b[0m\u001b[0;34m(\u001b[0m\u001b[0;34m)\u001b[0m\u001b[0;34m\u001b[0m\u001b[0;34m\u001b[0m\u001b[0m\n\u001b[0m\u001b[1;32m      4\u001b[0m \u001b[0mdf_by_year\u001b[0m\u001b[0;34m\u001b[0m\u001b[0;34m\u001b[0m\u001b[0m\n",
      "\u001b[0;31mNameError\u001b[0m: name 'df' is not defined"
     ]
    }
   ],
   "source": [
    "# get the total case numbers for each year to see if any year stands out\n",
    "import matplotlib\n",
    "df_by_year = df.death_year.value_counts().to_frame()\n",
    "df_by_year"
   ]
  },
  {
   "cell_type": "code",
   "execution_count": 61,
   "id": "4d4d28d7",
   "metadata": {},
   "outputs": [
    {
     "data": {
      "text/plain": [
       "Long Beach          61\n",
       "Compton             30\n",
       "Inglewood           25\n",
       "East Los Angeles    24\n",
       "Boyle Heights       20\n",
       "Downtown            19\n",
       "South Gate          17\n",
       "Lynwood             17\n",
       "Palmdale            16\n",
       "Lancaster           16\n",
       "Name: neighborhood, dtype: int64"
      ]
     },
     "execution_count": 61,
     "metadata": {},
     "output_type": "execute_result"
    }
   ],
   "source": [
    "# Which neighborhood has more cases?\n",
    "df.neighborhood.value_counts().head(10)"
   ]
  },
  {
   "cell_type": "code",
   "execution_count": null,
   "id": "c15d9156",
   "metadata": {},
   "outputs": [],
   "source": []
  },
  {
   "cell_type": "code",
   "execution_count": 9,
   "id": "b0ce55ae",
   "metadata": {},
   "outputs": [
    {
     "data": {
      "text/plain": [
       "male      894\n",
       "female     34\n",
       "Name: gender, dtype: int64"
      ]
     },
     "execution_count": 9,
     "metadata": {},
     "output_type": "execute_result"
    }
   ],
   "source": [
    "# Are there more male being killed than female?\n",
    "df.gender.value_counts()"
   ]
  },
  {
   "cell_type": "code",
   "execution_count": null,
   "id": "344f7d27",
   "metadata": {},
   "outputs": [],
   "source": []
  },
  {
   "cell_type": "code",
   "execution_count": 28,
   "id": "7aa95cfe",
   "metadata": {},
   "outputs": [],
   "source": [
    "# I create another new column with both year and month from \"death_date\" for future visualizations.\n",
    "df['death_year_month'] = df.death_date.dt.to_period('M')"
   ]
  },
  {
   "cell_type": "code",
   "execution_count": null,
   "id": "7acf0314",
   "metadata": {},
   "outputs": [],
   "source": []
  }
 ],
 "metadata": {
  "kernelspec": {
   "display_name": "Python 3",
   "language": "python",
   "name": "python3"
  },
  "language_info": {
   "codemirror_mode": {
    "name": "ipython",
    "version": 3
   },
   "file_extension": ".py",
   "mimetype": "text/x-python",
   "name": "python",
   "nbconvert_exporter": "python",
   "pygments_lexer": "ipython3",
   "version": "3.8.10"
  }
 },
 "nbformat": 4,
 "nbformat_minor": 5
}
